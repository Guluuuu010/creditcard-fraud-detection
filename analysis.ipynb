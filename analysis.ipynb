{
 "cells": [
  {
   "cell_type": "markdown",
   "id": "c1359621",
   "metadata": {},
   "source": [
    "# Analysis Notebook\n",
    "\n",
    "Starter notebook for credit card fraud detection. Replace with your analysis."
   ]
  },
  {
   "cell_type": "code",
   "execution_count": null,
   "id": "2c197a9a",
   "metadata": {},
   "outputs": [],
   "source": [
    "import pandas as pd\n",
    "\n",
    "df = pd.read_csv('../data/creditcard.csv')\n",
    "print(df.head())"
   ]
  },
  {
   "cell_type": "code",
   "execution_count": null,
   "id": "c8f49493",
   "metadata": {},
   "outputs": [],
   "source": [
    "print(df.shape)\n",
    "print(df['Class'].value_counts())"
   ]
  }
 ],
 "metadata": {},
 "nbformat": 4,
 "nbformat_minor": 5
}
